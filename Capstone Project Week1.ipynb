{
 "cells": [
  {
   "cell_type": "markdown",
   "metadata": {},
   "source": [
    "Is Manhattan the best place to open a new Pizza Restaurant?\n",
    "    My client is planning to open a new Pizza Restaturant in New York. The target place is Manhattan, but my client is not sure about the location. So he wants to compare several places first before the final decison. \n",
    "    There are several areas in New York, will be using as the comparision. The client wants to know that compare to Brooklyn and Queens, is Manhattan the best place to open a new Pizza Restaurant? \n",
    "    Client doesn't want to open a restaurant with too many competetors. Because people prefer to have junk food while they are drunk, my client wants to open this new Pizza places near bars."
   ]
  },
  {
   "cell_type": "markdown",
   "metadata": {},
   "source": [
    "I will continue to use https://geo.nyu.edu/catalog/nyu_2451_34572 for new york neighborhood. Also will use Foursquare to explore the neighborhood to find the potiential location. "
   ]
  },
  {
   "cell_type": "code",
   "execution_count": null,
   "metadata": {},
   "outputs": [],
   "source": []
  }
 ],
 "metadata": {
  "kernelspec": {
   "display_name": "Python",
   "language": "python",
   "name": "conda-env-python-py"
  },
  "language_info": {
   "codemirror_mode": {
    "name": "ipython",
    "version": 3
   },
   "file_extension": ".py",
   "mimetype": "text/x-python",
   "name": "python",
   "nbconvert_exporter": "python",
   "pygments_lexer": "ipython3",
   "version": "3.6.10"
  }
 },
 "nbformat": 4,
 "nbformat_minor": 4
}
